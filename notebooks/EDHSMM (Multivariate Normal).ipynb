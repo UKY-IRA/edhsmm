{
 "cells": [
  {
   "cell_type": "code",
   "execution_count": 1,
   "metadata": {},
   "outputs": [],
   "source": [
    "import numpy as np\n",
    "import matplotlib.pyplot as plt"
   ]
  },
  {
   "cell_type": "code",
   "execution_count": 2,
   "metadata": {},
   "outputs": [],
   "source": [
    "# # Original HMM (uses hmmlearn)\n",
    "# from hmmlearn import hmm\n",
    "# S = hmm.GaussianHMM(3, covariance_type='full')\n",
    "\n",
    "# S.startprob_ = np.array([0.1, 0.6, 0.3])\n",
    "# S.transmat_ = np.array([[0.8, 0.1, 0.1], [0.1, 0.8, 0.1], [0.1, 0.1, 0.8]])\n",
    "# S.means_ = np.array([[0, 5],[-1, -1],[-1, 3]])\n",
    "# S.covars_ = np.array([\n",
    "#     [[0.1, -0.5],\n",
    "#      [-0.5, 3]],\n",
    "#     [[0.6, 0.7],\n",
    "#      [0.7, 1]],\n",
    "#     [[1, 0],\n",
    "#      [0, 1]]\n",
    "#     ])\n",
    "\n",
    "# obs, states = S.sample(300)\n",
    "# np.savetxt('sample.txt', obs)"
   ]
  },
  {
   "cell_type": "code",
   "execution_count": 3,
   "metadata": {},
   "outputs": [],
   "source": [
    "# copies from above\n",
    "OG_means = np.array([[0, 5],[-1, -1],[-1, 3]])\n",
    "OG_covars = np.array([\n",
    "    [[0.1, -0.5],\n",
    "     [-0.5, 3]],\n",
    "    [[0.6, 0.7],\n",
    "     [0.7, 1]],\n",
    "    [[1, 0],\n",
    "     [0, 1]]\n",
    "    ])"
   ]
  },
  {
   "cell_type": "code",
   "execution_count": 4,
   "metadata": {},
   "outputs": [],
   "source": [
    "data = np.loadtxt('sample.txt')"
   ]
  },
  {
   "cell_type": "code",
   "execution_count": 5,
   "metadata": {},
   "outputs": [
    {
     "data": {
      "image/png": "[encoded data removed]",
      "text/plain": [
       "<Figure size 864x432 with 1 Axes>"
      ]
     },
     "metadata": {},
     "output_type": "display_data"
    }
   ],
   "source": [
    "from matplotlib import rcParams\n",
    "rcParams['figure.figsize'] = (12, 6)\n",
    "rcParams['figure.facecolor'] = 'w'\n",
    "rcParams['legend.edgecolor'] = 'k'\n",
    "\n",
    "plt.plot(data[:, 0], data[:, 1], 'x')\n",
    "plt.show()"
   ]
  },
  {
   "cell_type": "code",
   "execution_count": 6,
   "metadata": {},
   "outputs": [],
   "source": [
    "from hsmm_base import GaussianHSMM\n",
    "R = GaussianHSMM(n_states = 3, n_durations = 20)"
   ]
  },
  {
   "cell_type": "code",
   "execution_count": 7,
   "metadata": {},
   "outputs": [
    {
     "name": "stdout",
     "output_type": "stream",
     "text": [
      "FIT: reestimation complete for 1th loop.\n",
      "FIT: reestimation complete for 2th loop.\n",
      "FIT: reestimation complete for 3th loop.\n",
      "FIT: reestimation complete for 4th loop.\n",
      "FIT: reestimation complete for 5th loop.\n",
      "FIT: reestimation complete for 6th loop.\n",
      "FIT: reestimation complete for 7th loop.\n",
      "FIT: reestimation complete for 8th loop.\n",
      "FIT: reestimation complete for 9th loop.\n",
      "FIT: reestimation complete for 10th loop.\n",
      "FIT: reestimation complete for 11th loop.\n",
      "FIT: reestimation complete for 12th loop.\n",
      "FIT: reestimation complete for 13th loop.\n",
      "FIT: converged at 14th loop.\n"
     ]
    }
   ],
   "source": [
    "R.fit(data, censoring = 1)   # this took quite long time"
   ]
  },
  {
   "cell_type": "code",
   "execution_count": 9,
   "metadata": {},
   "outputs": [
    {
     "name": "stdout",
     "output_type": "stream",
     "text": [
      "Original Means:\n",
      " [[ 0  5]\n",
      " [-1 -1]\n",
      " [-1  3]] \n",
      "\n",
      "Original Covariance Matrices:\n",
      " [[[ 0.1 -0.5]\n",
      "  [-0.5  3. ]]\n",
      "\n",
      " [[ 0.6  0.7]\n",
      "  [ 0.7  1. ]]\n",
      "\n",
      " [[ 1.   0. ]\n",
      "  [ 0.   1. ]]] \n",
      "\n",
      "Learned Means:\n",
      " [[-0.04996617  5.20062714]\n",
      " [-0.99658646 -0.96647846]\n",
      " [-1.14511979  3.00550824]] \n",
      "\n",
      "Learned Covariance Matrices:\n",
      " [[[ 0.1080734  -0.5355931 ]\n",
      "  [-0.5355931   3.05679091]]\n",
      "\n",
      " [[ 0.49309137  0.61393649]\n",
      "  [ 0.61393649  0.91265462]]\n",
      "\n",
      " [[ 1.11548263  0.01930518]\n",
      "  [ 0.01930518  1.13737438]]]\n"
     ]
    }
   ],
   "source": [
    "# comparison\n",
    "print(\"Original Means:\\n\", OG_means, \"\\n\")\n",
    "print(\"Original Covariance Matrices:\\n\", OG_covars, \"\\n\")\n",
    "\n",
    "print(\"Learned Means:\\n\", R.mean, \"\\n\")\n",
    "print(\"Learned Covariance Matrices:\\n\", R.covmat)"
   ]
  },
  {
   "cell_type": "code",
   "execution_count": null,
   "metadata": {},
   "outputs": [],
   "source": []
  }
 ],
 "metadata": {
  "kernelspec": {
   "display_name": "Python 3",
   "language": "python",
   "name": "python3"
  },
  "language_info": {
   "codemirror_mode": {
    "name": "ipython",
    "version": 3
   },
   "file_extension": ".py",
   "mimetype": "text/x-python",
   "name": "python",
   "nbconvert_exporter": "python",
   "pygments_lexer": "ipython3",
   "version": "3.7.3"
  }
 },
 "nbformat": 4,
 "nbformat_minor": 2
}
