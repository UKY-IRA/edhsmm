{
 "cells": [
  {
   "cell_type": "code",
   "execution_count": 1,
   "metadata": {},
   "outputs": [],
   "source": [
    "import numpy as np\n",
    "from hsmm_base import GaussianHSMM"
   ]
  },
  {
   "cell_type": "code",
   "execution_count": 2,
   "metadata": {},
   "outputs": [],
   "source": [
    "# sample observations (from hsmmlearn)\n",
    "obs = np.array([9.7471989, 9.01877392, -1.28428112, 0.55009463, 0.58425178, 0.43354177,\n",
    "                10.63374352, 10.14025491, 5.3215164, 5.46421001, 5.16719792, 9.12216889,\n",
    "                10.49171453, -0.72812025, 0.57309517, 0.3420868, -1.35338431, 4.12587557,\n",
    "                6.907117, 5.41243634])"
   ]
  },
  {
   "cell_type": "code",
   "execution_count": 3,
   "metadata": {},
   "outputs": [],
   "source": [
    "R = GaussianHSMM(n_states = 3, n_durations = 4)"
   ]
  },
  {
   "cell_type": "code",
   "execution_count": 4,
   "metadata": {},
   "outputs": [],
   "source": [
    "# initial parameters (from hsmmlearn tutorial)\n",
    "\n",
    "R.pi = np.array([1 / 3, 1 / 3, 1 / 3])\n",
    "\n",
    "R.dur = np.array([\n",
    "    [0.1, 0.005, 0.005, 0.89],\n",
    "    [0.1, 0.005, 0.89, 0.005],\n",
    "    [0.1, 0.89, 0.005, 0.005]\n",
    "])\n",
    "\n",
    "R.tmat = np.array([\n",
    "        [0.0, 0.5, 0.5],\n",
    "        [0.3, 0.0, 0.7],\n",
    "        [0.6, 0.4, 0.0]\n",
    "    ])\n",
    "\n",
    "R.mean = np.array([0.0, 5.0, 10.0])\n",
    "R.sdev = np.array([1, 1, 1])"
   ]
  },
  {
   "cell_type": "code",
   "execution_count": 5,
   "metadata": {},
   "outputs": [
    {
     "name": "stdout",
     "output_type": "stream",
     "text": [
      "FIT: reestimation complete for 1th loop.\n",
      "FIT: reestimation complete for 2th loop.\n",
      "FIT: reestimation complete for 3th loop.\n",
      "FIT: reestimation complete for 4th loop.\n",
      "FIT: reestimation complete for 5th loop.\n",
      "FIT: converged at 6th loop.\n"
     ]
    }
   ],
   "source": [
    "# EM algorithm\n",
    "R.fit(obs, censoring = 1)"
   ]
  },
  {
   "cell_type": "code",
   "execution_count": 6,
   "metadata": {},
   "outputs": [
    {
     "data": {
      "text/plain": [
       "-25.88361518291858"
      ]
     },
     "execution_count": 6,
     "metadata": {},
     "output_type": "execute_result"
    }
   ],
   "source": [
    "R.score(obs, censoring = 1)"
   ]
  },
  {
   "cell_type": "code",
   "execution_count": 7,
   "metadata": {},
   "outputs": [
    {
     "name": "stdout",
     "output_type": "stream",
     "text": [
      "Start Probabilities:\n",
      " [3.91245903e-243 2.98783256e-100 1.00000000e+000] \n",
      "\n",
      "Transition Matrix:\n",
      " [[0.         0.5        0.5       ]\n",
      " [0.00934733 0.         0.99065267]\n",
      " [0.66666667 0.33333333 0.        ]] \n",
      "\n",
      "Durations:\n",
      " [[2.84503085e-62 1.73914340e-83 1.77426702e-57 1.00000000e+00]\n",
      " [3.53132686e-29 2.01567050e-27 1.00000000e+00 4.48411629e-73]\n",
      " [3.45596202e-36 1.00000000e+00 2.52293082e-63 2.43673043e-88]] \n",
      "\n",
      "Means:\n",
      " [-0.11033944  5.39972554  9.85897578] \n",
      "\n",
      "Std. Deviations:\n",
      " [0.80554035 0.8123452  0.6246411 ]\n"
     ]
    }
   ],
   "source": [
    "# new parameters\n",
    "print(\"Start Probabilities:\\n\", R.pi, \"\\n\")\n",
    "print(\"Transition Matrix:\\n\", R.tmat, \"\\n\")\n",
    "print(\"Durations:\\n\", R.dur, \"\\n\")\n",
    "print(\"Means:\\n\", R.mean, \"\\n\")\n",
    "print(\"Std. Deviations:\\n\", R.sdev)"
   ]
  },
  {
   "cell_type": "code",
   "execution_count": 8,
   "metadata": {},
   "outputs": [],
   "source": [
    "# Viterbi algorithm\n",
    "states, logprob = R.predict(obs, censoring = 1)"
   ]
  },
  {
   "cell_type": "code",
   "execution_count": 9,
   "metadata": {},
   "outputs": [],
   "source": [
    "# correct states (from hsmmlearn tutorial)\n",
    "correct = np.array([2,2,0,0,0,0,2,2,1,1,1,2,2,0,0,0,0,1,1,1])"
   ]
  },
  {
   "cell_type": "code",
   "execution_count": 10,
   "metadata": {},
   "outputs": [
    {
     "data": {
      "text/plain": [
       "0"
      ]
     },
     "execution_count": 10,
     "metadata": {},
     "output_type": "execute_result"
    }
   ],
   "source": [
    "# how many incorrect states?\n",
    "np.sum(states != correct)"
   ]
  },
  {
   "cell_type": "code",
   "execution_count": null,
   "metadata": {},
   "outputs": [],
   "source": []
  }
 ],
 "metadata": {
  "kernelspec": {
   "display_name": "Python 3",
   "language": "python",
   "name": "python3"
  },
  "language_info": {
   "codemirror_mode": {
    "name": "ipython",
    "version": 3
   },
   "file_extension": ".py",
   "mimetype": "text/x-python",
   "name": "python",
   "nbconvert_exporter": "python",
   "pygments_lexer": "ipython3",
   "version": "3.7.3"
  }
 },
 "nbformat": 4,
 "nbformat_minor": 2
}
